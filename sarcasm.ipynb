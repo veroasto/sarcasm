{
  "nbformat": 4,
  "nbformat_minor": 0,
  "metadata": {
    "colab": {
      "name": "sarcasm.ipynb",
      "provenance": [],
      "collapsed_sections": []
    },
    "kernelspec": {
      "display_name": "Python 3",
      "name": "python3"
    },
    "language_info": {
      "name": "python"
    },
    "accelerator": "GPU"
  },
  "cells": [
    {
      "cell_type": "code",
      "metadata": {
        "colab": {
          "resources": {
            "http://localhost:8080/nbextensions/google.colab/files.js": {
              "data": "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",
              "ok": true,
              "headers": [
                [
                  "content-type",
                  "application/javascript"
                ]
              ],
              "status": 200,
              "status_text": ""
            }
          },
          "base_uri": "https://localhost:8080/",
          "height": 100
        },
        "id": "RySUBpTQ_4Jj",
        "outputId": "3f373566-10b5-4f89-ee5f-731582ef2506"
      },
      "source": [
        "from google.colab import files\n",
        "files.upload() "
      ],
      "execution_count": 2,
      "outputs": [
        {
          "output_type": "display_data",
          "data": {
            "text/html": [
              "\n",
              "     <input type=\"file\" id=\"files-56420412-8f66-4b91-ab51-1477d258fe45\" name=\"files[]\" multiple disabled\n",
              "        style=\"border:none\" />\n",
              "     <output id=\"result-56420412-8f66-4b91-ab51-1477d258fe45\">\n",
              "      Upload widget is only available when the cell has been executed in the\n",
              "      current browser session. Please rerun this cell to enable.\n",
              "      </output>\n",
              "      <script src=\"/nbextensions/google.colab/files.js\"></script> "
            ],
            "text/plain": [
              "<IPython.core.display.HTML object>"
            ]
          },
          "metadata": {
            "tags": []
          }
        },
        {
          "output_type": "stream",
          "text": [
            "Saving kaggle.json to kaggle.json\n"
          ],
          "name": "stdout"
        },
        {
          "output_type": "execute_result",
          "data": {
            "text/plain": [
              "{'kaggle.json': b'{\"username\":\"veronicaastorino\",\"key\":\"683a83911189c413f6fd6cd65949231a\"}'}"
            ]
          },
          "metadata": {
            "tags": []
          },
          "execution_count": 2
        }
      ]
    },
    {
      "cell_type": "code",
      "metadata": {
        "id": "xhGA3qEEQHiy"
      },
      "source": [
        "from collections import Counter\n",
        "import numpy as np \n",
        "import pandas as pd \n",
        "import matplotlib.pyplot as plt\n",
        "import seaborn as sns\n",
        "from scipy.sparse import hstack\n",
        "from sklearn.feature_extraction.text import TfidfVectorizer, CountVectorizer \n",
        "from sklearn.linear_model import LogisticRegression, RidgeClassifier, LogisticRegressionCV\n",
        "from sklearn.tree import DecisionTreeClassifier\n",
        "from sklearn.ensemble import RandomForestClassifier, GradientBoostingClassifier, AdaBoostClassifier, BaggingClassifier, ExtraTreesClassifier\n",
        "from sklearn.preprocessing import OneHotEncoder, StandardScaler\n",
        "from sklearn.model_selection import train_test_split\n",
        "from sklearn.metrics import confusion_matrix"
      ],
      "execution_count": null,
      "outputs": []
    },
    {
      "cell_type": "code",
      "metadata": {
        "colab": {
          "base_uri": "https://localhost:8080/"
        },
        "id": "V5aMqdAq_6oe",
        "outputId": "05b88773-c69c-43cb-f2b8-c0057863cc73"
      },
      "source": [
        "!pip install -q kaggle\n",
        "!mkdir -p ~/.kaggle\n",
        "!cp kaggle.json ~/.kaggle/\n",
        "!ls ~/.kaggle\n",
        "!chmod 600 /root/.kaggle/kaggle.json\n",
        "!kaggle datasets download -q danofer/sarcasm/\n",
        "!unzip /content/sarcasm.zip"
      ],
      "execution_count": null,
      "outputs": [
        {
          "output_type": "stream",
          "text": [
            "kaggle.json\n",
            "Archive:  /content/sarcasm.zip\n",
            "  inflating: test-balanced.csv       \n",
            "  inflating: test-unbalanced.csv     \n",
            "  inflating: train-balanced-sarc.csv.gz  \n",
            "  inflating: train-balanced-sarcasm.csv  \n"
          ],
          "name": "stdout"
        }
      ]
    },
    {
      "cell_type": "code",
      "metadata": {
        "id": "J6cF40Mn_6GT"
      },
      "source": [
        "import pandas as pd\n",
        "import re\n",
        "from textblob import TextBlob\n"
      ],
      "execution_count": null,
      "outputs": []
    },
    {
      "cell_type": "code",
      "metadata": {
        "id": "ujc_hOKsORjt"
      },
      "source": [
        "data = pd.read_csv('train-balanced-sarcasm.csv')"
      ],
      "execution_count": null,
      "outputs": []
    },
    {
      "cell_type": "code",
      "metadata": {
        "id": "nIvDop8vOelK"
      },
      "source": [
        "data=data[['parent_comment','subreddit','label']]"
      ],
      "execution_count": null,
      "outputs": []
    },
    {
      "cell_type": "code",
      "metadata": {
        "colab": {
          "base_uri": "https://localhost:8080/"
        },
        "id": "eyixAzsxOqx1",
        "outputId": "501329ac-ae87-49ea-b51f-fb9aa9bc3620"
      },
      "source": [
        "data.isna().sum()"
      ],
      "execution_count": null,
      "outputs": [
        {
          "output_type": "execute_result",
          "data": {
            "text/plain": [
              "parent_comment    0\n",
              "subreddit         0\n",
              "label             0\n",
              "dtype: int64"
            ]
          },
          "metadata": {
            "tags": []
          },
          "execution_count": 7
        }
      ]
    },
    {
      "cell_type": "code",
      "metadata": {
        "colab": {
          "base_uri": "https://localhost:8080/",
          "height": 284
        },
        "id": "Ctc-z-3xOURt",
        "outputId": "547cbcd9-fd29-4483-a8b2-beb0b45b1681"
      },
      "source": [
        "data.describe()"
      ],
      "execution_count": null,
      "outputs": [
        {
          "output_type": "execute_result",
          "data": {
            "text/html": [
              "<div>\n",
              "<style scoped>\n",
              "    .dataframe tbody tr th:only-of-type {\n",
              "        vertical-align: middle;\n",
              "    }\n",
              "\n",
              "    .dataframe tbody tr th {\n",
              "        vertical-align: top;\n",
              "    }\n",
              "\n",
              "    .dataframe thead th {\n",
              "        text-align: right;\n",
              "    }\n",
              "</style>\n",
              "<table border=\"1\" class=\"dataframe\">\n",
              "  <thead>\n",
              "    <tr style=\"text-align: right;\">\n",
              "      <th></th>\n",
              "      <th>label</th>\n",
              "    </tr>\n",
              "  </thead>\n",
              "  <tbody>\n",
              "    <tr>\n",
              "      <th>count</th>\n",
              "      <td>1010826.0</td>\n",
              "    </tr>\n",
              "    <tr>\n",
              "      <th>mean</th>\n",
              "      <td>0.5</td>\n",
              "    </tr>\n",
              "    <tr>\n",
              "      <th>std</th>\n",
              "      <td>0.5</td>\n",
              "    </tr>\n",
              "    <tr>\n",
              "      <th>min</th>\n",
              "      <td>0.0</td>\n",
              "    </tr>\n",
              "    <tr>\n",
              "      <th>25%</th>\n",
              "      <td>0.0</td>\n",
              "    </tr>\n",
              "    <tr>\n",
              "      <th>50%</th>\n",
              "      <td>0.5</td>\n",
              "    </tr>\n",
              "    <tr>\n",
              "      <th>75%</th>\n",
              "      <td>1.0</td>\n",
              "    </tr>\n",
              "    <tr>\n",
              "      <th>max</th>\n",
              "      <td>1.0</td>\n",
              "    </tr>\n",
              "  </tbody>\n",
              "</table>\n",
              "</div>"
            ],
            "text/plain": [
              "           label\n",
              "count  1010826.0\n",
              "mean         0.5\n",
              "std          0.5\n",
              "min          0.0\n",
              "25%          0.0\n",
              "50%          0.5\n",
              "75%          1.0\n",
              "max          1.0"
            ]
          },
          "metadata": {
            "tags": []
          },
          "execution_count": 8
        }
      ]
    },
    {
      "cell_type": "code",
      "metadata": {
        "colab": {
          "base_uri": "https://localhost:8080/"
        },
        "id": "U-A364CuOaqq",
        "outputId": "87ac8a32-6ace-491e-ba18-f54cf4e28e08"
      },
      "source": [
        "data.isna().sum()"
      ],
      "execution_count": null,
      "outputs": [
        {
          "output_type": "execute_result",
          "data": {
            "text/plain": [
              "parent_comment    0\n",
              "subreddit         0\n",
              "label             0\n",
              "dtype: int64"
            ]
          },
          "metadata": {
            "tags": []
          },
          "execution_count": 9
        }
      ]
    },
    {
      "cell_type": "code",
      "metadata": {
        "id": "kPOVUbPDPKA9"
      },
      "source": [
        "import numpy as np"
      ],
      "execution_count": null,
      "outputs": []
    },
    {
      "cell_type": "code",
      "metadata": {
        "colab": {
          "base_uri": "https://localhost:8080/",
          "height": 431
        },
        "id": "1eGG6qc-PE29",
        "outputId": "1d555bb4-589c-437f-a2e2-2993c729457f"
      },
      "source": [
        "data.groupby('subreddit')['label'].agg([np.size, np.mean, np.sum]).sort_values(by='sum', ascending=False)"
      ],
      "execution_count": null,
      "outputs": [
        {
          "output_type": "execute_result",
          "data": {
            "text/html": [
              "<div>\n",
              "<style scoped>\n",
              "    .dataframe tbody tr th:only-of-type {\n",
              "        vertical-align: middle;\n",
              "    }\n",
              "\n",
              "    .dataframe tbody tr th {\n",
              "        vertical-align: top;\n",
              "    }\n",
              "\n",
              "    .dataframe thead th {\n",
              "        text-align: right;\n",
              "    }\n",
              "</style>\n",
              "<table border=\"1\" class=\"dataframe\">\n",
              "  <thead>\n",
              "    <tr style=\"text-align: right;\">\n",
              "      <th></th>\n",
              "      <th>size</th>\n",
              "      <th>mean</th>\n",
              "      <th>sum</th>\n",
              "    </tr>\n",
              "    <tr>\n",
              "      <th>subreddit</th>\n",
              "      <th></th>\n",
              "      <th></th>\n",
              "      <th></th>\n",
              "    </tr>\n",
              "  </thead>\n",
              "  <tbody>\n",
              "    <tr>\n",
              "      <th>AskReddit</th>\n",
              "      <td>65677</td>\n",
              "      <td>0.401465</td>\n",
              "      <td>26367</td>\n",
              "    </tr>\n",
              "    <tr>\n",
              "      <th>politics</th>\n",
              "      <td>39496</td>\n",
              "      <td>0.605378</td>\n",
              "      <td>23910</td>\n",
              "    </tr>\n",
              "    <tr>\n",
              "      <th>worldnews</th>\n",
              "      <td>26377</td>\n",
              "      <td>0.642529</td>\n",
              "      <td>16948</td>\n",
              "    </tr>\n",
              "    <tr>\n",
              "      <th>leagueoflegends</th>\n",
              "      <td>21037</td>\n",
              "      <td>0.542330</td>\n",
              "      <td>11409</td>\n",
              "    </tr>\n",
              "    <tr>\n",
              "      <th>pcmasterrace</th>\n",
              "      <td>18988</td>\n",
              "      <td>0.566674</td>\n",
              "      <td>10760</td>\n",
              "    </tr>\n",
              "    <tr>\n",
              "      <th>...</th>\n",
              "      <td>...</td>\n",
              "      <td>...</td>\n",
              "      <td>...</td>\n",
              "    </tr>\n",
              "    <tr>\n",
              "      <th>Tgifs</th>\n",
              "      <td>1</td>\n",
              "      <td>0.000000</td>\n",
              "      <td>0</td>\n",
              "    </tr>\n",
              "    <tr>\n",
              "      <th>TexasCHL</th>\n",
              "      <td>1</td>\n",
              "      <td>0.000000</td>\n",
              "      <td>0</td>\n",
              "    </tr>\n",
              "    <tr>\n",
              "      <th>TerrariaExchange</th>\n",
              "      <td>1</td>\n",
              "      <td>0.000000</td>\n",
              "      <td>0</td>\n",
              "    </tr>\n",
              "    <tr>\n",
              "      <th>TerrainBuilding</th>\n",
              "      <td>1</td>\n",
              "      <td>0.000000</td>\n",
              "      <td>0</td>\n",
              "    </tr>\n",
              "    <tr>\n",
              "      <th>UnpopularOpinions</th>\n",
              "      <td>1</td>\n",
              "      <td>0.000000</td>\n",
              "      <td>0</td>\n",
              "    </tr>\n",
              "  </tbody>\n",
              "</table>\n",
              "<p>14878 rows × 3 columns</p>\n",
              "</div>"
            ],
            "text/plain": [
              "                    size      mean    sum\n",
              "subreddit                                \n",
              "AskReddit          65677  0.401465  26367\n",
              "politics           39496  0.605378  23910\n",
              "worldnews          26377  0.642529  16948\n",
              "leagueoflegends    21037  0.542330  11409\n",
              "pcmasterrace       18988  0.566674  10760\n",
              "...                  ...       ...    ...\n",
              "Tgifs                  1  0.000000      0\n",
              "TexasCHL               1  0.000000      0\n",
              "TerrariaExchange       1  0.000000      0\n",
              "TerrainBuilding        1  0.000000      0\n",
              "UnpopularOpinions      1  0.000000      0\n",
              "\n",
              "[14878 rows x 3 columns]"
            ]
          },
          "metadata": {
            "tags": []
          },
          "execution_count": 11
        }
      ]
    },
    {
      "cell_type": "code",
      "metadata": {
        "colab": {
          "base_uri": "https://localhost:8080/",
          "height": 402
        },
        "id": "JyAQCjTbPlUN",
        "outputId": "af6657d3-8f6a-4ecf-c309-2a634cf9a0d2"
      },
      "source": [
        "data"
      ],
      "execution_count": null,
      "outputs": [
        {
          "output_type": "execute_result",
          "data": {
            "text/html": [
              "<div>\n",
              "<style scoped>\n",
              "    .dataframe tbody tr th:only-of-type {\n",
              "        vertical-align: middle;\n",
              "    }\n",
              "\n",
              "    .dataframe tbody tr th {\n",
              "        vertical-align: top;\n",
              "    }\n",
              "\n",
              "    .dataframe thead th {\n",
              "        text-align: right;\n",
              "    }\n",
              "</style>\n",
              "<table border=\"1\" class=\"dataframe\">\n",
              "  <thead>\n",
              "    <tr style=\"text-align: right;\">\n",
              "      <th></th>\n",
              "      <th>parent_comment</th>\n",
              "      <th>subreddit</th>\n",
              "      <th>label</th>\n",
              "    </tr>\n",
              "  </thead>\n",
              "  <tbody>\n",
              "    <tr>\n",
              "      <th>0</th>\n",
              "      <td>Yeah, I get that argument. At this point, I'd ...</td>\n",
              "      <td>politics</td>\n",
              "      <td>0</td>\n",
              "    </tr>\n",
              "    <tr>\n",
              "      <th>1</th>\n",
              "      <td>The blazers and Mavericks (The wests 5 and 6 s...</td>\n",
              "      <td>nba</td>\n",
              "      <td>0</td>\n",
              "    </tr>\n",
              "    <tr>\n",
              "      <th>2</th>\n",
              "      <td>They're favored to win.</td>\n",
              "      <td>nfl</td>\n",
              "      <td>0</td>\n",
              "    </tr>\n",
              "    <tr>\n",
              "      <th>3</th>\n",
              "      <td>deadass don't kill my buzz</td>\n",
              "      <td>BlackPeopleTwitter</td>\n",
              "      <td>0</td>\n",
              "    </tr>\n",
              "    <tr>\n",
              "      <th>4</th>\n",
              "      <td>Yep can confirm I saw the tool they use for th...</td>\n",
              "      <td>MaddenUltimateTeam</td>\n",
              "      <td>0</td>\n",
              "    </tr>\n",
              "    <tr>\n",
              "      <th>...</th>\n",
              "      <td>...</td>\n",
              "      <td>...</td>\n",
              "      <td>...</td>\n",
              "    </tr>\n",
              "    <tr>\n",
              "      <th>1010821</th>\n",
              "      <td>No one is calling this an engineered pathogen,...</td>\n",
              "      <td>reddit.com</td>\n",
              "      <td>1</td>\n",
              "    </tr>\n",
              "    <tr>\n",
              "      <th>1010822</th>\n",
              "      <td>In a move typical of their recent do-nothing a...</td>\n",
              "      <td>climate</td>\n",
              "      <td>1</td>\n",
              "    </tr>\n",
              "    <tr>\n",
              "      <th>1010823</th>\n",
              "      <td>Screw the Disabled--I've got to get to Church ...</td>\n",
              "      <td>atheism</td>\n",
              "      <td>1</td>\n",
              "    </tr>\n",
              "    <tr>\n",
              "      <th>1010824</th>\n",
              "      <td>I've always been unsettled by that. I hear a l...</td>\n",
              "      <td>worldnews</td>\n",
              "      <td>1</td>\n",
              "    </tr>\n",
              "    <tr>\n",
              "      <th>1010825</th>\n",
              "      <td>Why do the people who make our laws seem unabl...</td>\n",
              "      <td>politics</td>\n",
              "      <td>1</td>\n",
              "    </tr>\n",
              "  </tbody>\n",
              "</table>\n",
              "<p>1010826 rows × 3 columns</p>\n",
              "</div>"
            ],
            "text/plain": [
              "                                            parent_comment  ... label\n",
              "0        Yeah, I get that argument. At this point, I'd ...  ...     0\n",
              "1        The blazers and Mavericks (The wests 5 and 6 s...  ...     0\n",
              "2                                  They're favored to win.  ...     0\n",
              "3                               deadass don't kill my buzz  ...     0\n",
              "4        Yep can confirm I saw the tool they use for th...  ...     0\n",
              "...                                                    ...  ...   ...\n",
              "1010821  No one is calling this an engineered pathogen,...  ...     1\n",
              "1010822  In a move typical of their recent do-nothing a...  ...     1\n",
              "1010823  Screw the Disabled--I've got to get to Church ...  ...     1\n",
              "1010824  I've always been unsettled by that. I hear a l...  ...     1\n",
              "1010825  Why do the people who make our laws seem unabl...  ...     1\n",
              "\n",
              "[1010826 rows x 3 columns]"
            ]
          },
          "metadata": {
            "tags": []
          },
          "execution_count": 12
        }
      ]
    },
    {
      "cell_type": "markdown",
      "metadata": {
        "id": "zHSFm7ncp_0v"
      },
      "source": [
        "Feature Engineering for Logistic regression: Polarity, lenght of parent_comment, NGRAM AND TFIDF"
      ]
    },
    {
      "cell_type": "code",
      "metadata": {
        "id": "QNUHnNzkV8B-"
      },
      "source": [
        "data['polarity']=data['parent_comment'].apply(lambda x:TextBlob(x).sentiment.polarity)\n"
      ],
      "execution_count": null,
      "outputs": []
    },
    {
      "cell_type": "code",
      "metadata": {
        "id": "Mcf2TUQfXBWt"
      },
      "source": [
        "data['length']= data['parent_comment'].apply(lambda x:len(x))"
      ],
      "execution_count": null,
      "outputs": []
    },
    {
      "cell_type": "code",
      "metadata": {
        "colab": {
          "base_uri": "https://localhost:8080/",
          "height": 343
        },
        "id": "Qg2gdx-NPrq9",
        "outputId": "90df2e7c-6fa0-47e9-ce88-d6c7f8afbecd"
      },
      "source": [
        "x = data[['parent_comment','subreddit','polarity','length']]\n",
        "x.head(10)"
      ],
      "execution_count": null,
      "outputs": [
        {
          "output_type": "execute_result",
          "data": {
            "text/html": [
              "<div>\n",
              "<style scoped>\n",
              "    .dataframe tbody tr th:only-of-type {\n",
              "        vertical-align: middle;\n",
              "    }\n",
              "\n",
              "    .dataframe tbody tr th {\n",
              "        vertical-align: top;\n",
              "    }\n",
              "\n",
              "    .dataframe thead th {\n",
              "        text-align: right;\n",
              "    }\n",
              "</style>\n",
              "<table border=\"1\" class=\"dataframe\">\n",
              "  <thead>\n",
              "    <tr style=\"text-align: right;\">\n",
              "      <th></th>\n",
              "      <th>parent_comment</th>\n",
              "      <th>subreddit</th>\n",
              "      <th>polarity</th>\n",
              "      <th>length</th>\n",
              "    </tr>\n",
              "  </thead>\n",
              "  <tbody>\n",
              "    <tr>\n",
              "      <th>0</th>\n",
              "      <td>Yeah, I get that argument. At this point, I'd ...</td>\n",
              "      <td>politics</td>\n",
              "      <td>0.000000</td>\n",
              "      <td>80</td>\n",
              "    </tr>\n",
              "    <tr>\n",
              "      <th>1</th>\n",
              "      <td>The blazers and Mavericks (The wests 5 and 6 s...</td>\n",
              "      <td>nba</td>\n",
              "      <td>0.233333</td>\n",
              "      <td>134</td>\n",
              "    </tr>\n",
              "    <tr>\n",
              "      <th>2</th>\n",
              "      <td>They're favored to win.</td>\n",
              "      <td>nfl</td>\n",
              "      <td>0.800000</td>\n",
              "      <td>23</td>\n",
              "    </tr>\n",
              "    <tr>\n",
              "      <th>3</th>\n",
              "      <td>deadass don't kill my buzz</td>\n",
              "      <td>BlackPeopleTwitter</td>\n",
              "      <td>0.000000</td>\n",
              "      <td>26</td>\n",
              "    </tr>\n",
              "    <tr>\n",
              "      <th>4</th>\n",
              "      <td>Yep can confirm I saw the tool they use for th...</td>\n",
              "      <td>MaddenUltimateTeam</td>\n",
              "      <td>0.000000</td>\n",
              "      <td>85</td>\n",
              "    </tr>\n",
              "    <tr>\n",
              "      <th>5</th>\n",
              "      <td>do you find ariana grande sexy ?</td>\n",
              "      <td>AskReddit</td>\n",
              "      <td>0.500000</td>\n",
              "      <td>32</td>\n",
              "    </tr>\n",
              "    <tr>\n",
              "      <th>6</th>\n",
              "      <td>What's your weird or unsettling Trick or Treat...</td>\n",
              "      <td>AskReddit</td>\n",
              "      <td>-0.500000</td>\n",
              "      <td>53</td>\n",
              "    </tr>\n",
              "    <tr>\n",
              "      <th>7</th>\n",
              "      <td>Probably Sephiroth. I refuse to taint his grea...</td>\n",
              "      <td>FFBraveExvius</td>\n",
              "      <td>0.208333</td>\n",
              "      <td>111</td>\n",
              "    </tr>\n",
              "    <tr>\n",
              "      <th>8</th>\n",
              "      <td>What to upgrade? I have $500 to spend (mainly ...</td>\n",
              "      <td>pcmasterrace</td>\n",
              "      <td>0.114360</td>\n",
              "      <td>711</td>\n",
              "    </tr>\n",
              "    <tr>\n",
              "      <th>9</th>\n",
              "      <td>Probably count Kanye out Since the rest of his...</td>\n",
              "      <td>Lollapalooza</td>\n",
              "      <td>-0.003333</td>\n",
              "      <td>302</td>\n",
              "    </tr>\n",
              "  </tbody>\n",
              "</table>\n",
              "</div>"
            ],
            "text/plain": [
              "                                      parent_comment  ... length\n",
              "0  Yeah, I get that argument. At this point, I'd ...  ...     80\n",
              "1  The blazers and Mavericks (The wests 5 and 6 s...  ...    134\n",
              "2                            They're favored to win.  ...     23\n",
              "3                         deadass don't kill my buzz  ...     26\n",
              "4  Yep can confirm I saw the tool they use for th...  ...     85\n",
              "5                   do you find ariana grande sexy ?  ...     32\n",
              "6  What's your weird or unsettling Trick or Treat...  ...     53\n",
              "7  Probably Sephiroth. I refuse to taint his grea...  ...    111\n",
              "8  What to upgrade? I have $500 to spend (mainly ...  ...    711\n",
              "9  Probably count Kanye out Since the rest of his...  ...    302\n",
              "\n",
              "[10 rows x 4 columns]"
            ]
          },
          "metadata": {
            "tags": []
          },
          "execution_count": 15
        }
      ]
    },
    {
      "cell_type": "code",
      "metadata": {
        "colab": {
          "base_uri": "https://localhost:8080/"
        },
        "id": "w-_AsJytP62N",
        "outputId": "c5a2a7ce-6867-4984-850a-64d9a11d73a5"
      },
      "source": [
        "train_x, train_y = x, data['label']\n",
        "\n",
        "print(train_y)"
      ],
      "execution_count": null,
      "outputs": [
        {
          "output_type": "stream",
          "text": [
            "0          0\n",
            "1          0\n",
            "2          0\n",
            "3          0\n",
            "4          0\n",
            "          ..\n",
            "1010821    1\n",
            "1010822    1\n",
            "1010823    1\n",
            "1010824    1\n",
            "1010825    1\n",
            "Name: label, Length: 1010826, dtype: int64\n"
          ],
          "name": "stdout"
        }
      ]
    },
    {
      "cell_type": "code",
      "metadata": {
        "id": "F4EqvXkMJSzR"
      },
      "source": [
        "from sklearn.feature_extraction.text import TfidfVectorizer, CountVectorizer \n",
        "\n"
      ],
      "execution_count": null,
      "outputs": []
    },
    {
      "cell_type": "code",
      "metadata": {
        "colab": {
          "base_uri": "https://localhost:8080/"
        },
        "id": "1Pd26802QBoV",
        "outputId": "5048f2c6-0d63-4f84-cda1-1ec3e74dbc60"
      },
      "source": [
        "tfidf_comment = TfidfVectorizer(ngram_range=(1, 2), max_features=10000)\n",
        "comment_sparse = tfidf_comment.fit_transform(train_x['parent_comment'])\n",
        "print(comment_sparse)"
      ],
      "execution_count": null,
      "outputs": [
        {
          "output_type": "stream",
          "text": [
            "  (0, 772)\t0.2163044297938673\n",
            "  (0, 4786)\t0.3151198108381072\n",
            "  (0, 4166)\t0.314041715406686\n",
            "  (0, 8466)\t0.2673344437166209\n",
            "  (0, 829)\t0.2517934688297541\n",
            "  (0, 3153)\t0.2823707414028929\n",
            "  (0, 9381)\t0.16747634207788192\n",
            "  (0, 739)\t0.1310334330110928\n",
            "  (0, 5379)\t0.3229338639247273\n",
            "  (0, 3882)\t0.09209088242580529\n",
            "  (0, 4785)\t0.2790081948951106\n",
            "  (0, 7060)\t0.17366908060662375\n",
            "  (0, 4075)\t0.0897165272938755\n",
            "  (0, 6290)\t0.26588272675340996\n",
            "  (0, 6209)\t0.1933242360833174\n",
            "  (0, 8419)\t0.10780376467577216\n",
            "  (0, 806)\t0.1296192683349972\n",
            "  (0, 712)\t0.25590160536062595\n",
            "  (0, 7767)\t0.092345981839452\n",
            "  (0, 3131)\t0.1379580700809011\n",
            "  (0, 9811)\t0.19264371651317097\n",
            "  (1, 4609)\t0.2261189238727032\n",
            "  (1, 7974)\t0.28119477876457905\n",
            "  (1, 3948)\t0.11805797504950329\n",
            "  (1, 8117)\t0.2572053269549503\n",
            "  :\t:\n",
            "  (1010824, 8601)\t0.05416565082344687\n",
            "  (1010824, 396)\t0.05971469677855224\n",
            "  (1010824, 7893)\t0.1438135495213619\n",
            "  (1010824, 3882)\t0.06487595392492401\n",
            "  (1010824, 7767)\t0.13011133144032894\n",
            "  (1010825, 5916)\t0.30821859896418147\n",
            "  (1010825, 8972)\t0.2888745150698455\n",
            "  (1010825, 8971)\t0.28834913278270874\n",
            "  (1010825, 9101)\t0.2943303605896047\n",
            "  (1010825, 2215)\t0.24287747491808107\n",
            "  (1010825, 948)\t0.2586186840727669\n",
            "  (1010825, 8108)\t0.2242055741074783\n",
            "  (1010825, 4619)\t0.24826355795253466\n",
            "  (1010825, 1899)\t0.20491726181933315\n",
            "  (1010825, 9563)\t0.23397918631950246\n",
            "  (1010825, 9558)\t0.14287499004299328\n",
            "  (1010825, 6066)\t0.2074218029624114\n",
            "  (1010825, 9523)\t0.13809817142903402\n",
            "  (1010825, 6036)\t0.12787258702029072\n",
            "  (1010825, 6982)\t0.2138933485716864\n",
            "  (1010825, 2195)\t0.1257312952689857\n",
            "  (1010825, 5915)\t0.35159417673919197\n",
            "  (1010825, 4916)\t0.15398164182561225\n",
            "  (1010825, 8601)\t0.07305271164432516\n",
            "  (1010825, 7893)\t0.06465333413344172\n"
          ],
          "name": "stdout"
        }
      ]
    },
    {
      "cell_type": "code",
      "metadata": {
        "colab": {
          "base_uri": "https://localhost:8080/"
        },
        "id": "HiHL4QeiQVqM",
        "outputId": "c3eb84cb-2e63-4469-9aea-288322abf044"
      },
      "source": [
        "print(len(tfidf_comment.vocabulary_))"
      ],
      "execution_count": null,
      "outputs": [
        {
          "output_type": "stream",
          "text": [
            "10000\n"
          ],
          "name": "stdout"
        }
      ]
    },
    {
      "cell_type": "code",
      "metadata": {
        "id": "e9iaQ9U_aZ_a"
      },
      "source": [
        "import scipy\n",
        "from scipy.sparse import hstack,coo_matrix,csr_matrix\n",
        "\n",
        "polartiy=scipy.sparse.csr_matrix(train_x['polarity'].values)\n",
        "length=scipy.sparse.csr_matrix(train_x['length'].values)\n",
        "train_x_sparse =hstack([comment_sparse,polartiy.T,length.T])"
      ],
      "execution_count": null,
      "outputs": []
    },
    {
      "cell_type": "code",
      "metadata": {
        "colab": {
          "base_uri": "https://localhost:8080/"
        },
        "id": "XiGWaviryAk1",
        "outputId": "ed96c311-74f8-4c0e-d3c0-d97a4b8efdb0"
      },
      "source": [
        "print(train_x_sparse)"
      ],
      "execution_count": null,
      "outputs": [
        {
          "output_type": "stream",
          "text": [
            "  (0, 772)\t0.2163044297938673\n",
            "  (0, 4786)\t0.3151198108381072\n",
            "  (0, 4166)\t0.314041715406686\n",
            "  (0, 8466)\t0.2673344437166209\n",
            "  (0, 829)\t0.2517934688297541\n",
            "  (0, 3153)\t0.2823707414028929\n",
            "  (0, 9381)\t0.16747634207788192\n",
            "  (0, 739)\t0.1310334330110928\n",
            "  (0, 5379)\t0.3229338639247273\n",
            "  (0, 3882)\t0.09209088242580529\n",
            "  (0, 4785)\t0.2790081948951106\n",
            "  (0, 7060)\t0.17366908060662375\n",
            "  (0, 4075)\t0.0897165272938755\n",
            "  (0, 6290)\t0.26588272675340996\n",
            "  (0, 6209)\t0.1933242360833174\n",
            "  (0, 8419)\t0.10780376467577216\n",
            "  (0, 806)\t0.1296192683349972\n",
            "  (0, 712)\t0.25590160536062595\n",
            "  (0, 7767)\t0.092345981839452\n",
            "  (0, 3131)\t0.1379580700809011\n",
            "  (0, 9811)\t0.19264371651317097\n",
            "  (1, 4609)\t0.2261189238727032\n",
            "  (1, 7974)\t0.28119477876457905\n",
            "  (1, 3948)\t0.11805797504950329\n",
            "  (1, 8117)\t0.2572053269549503\n",
            "  :\t:\n",
            "  (1010801, 10001)\t380.0\n",
            "  (1010802, 10001)\t156.0\n",
            "  (1010803, 10001)\t321.0\n",
            "  (1010804, 10001)\t14.0\n",
            "  (1010805, 10001)\t59.0\n",
            "  (1010806, 10001)\t67.0\n",
            "  (1010807, 10001)\t191.0\n",
            "  (1010808, 10001)\t218.0\n",
            "  (1010809, 10001)\t51.0\n",
            "  (1010810, 10001)\t212.0\n",
            "  (1010811, 10001)\t89.0\n",
            "  (1010812, 10001)\t70.0\n",
            "  (1010813, 10001)\t37.0\n",
            "  (1010814, 10001)\t852.0\n",
            "  (1010815, 10001)\t26.0\n",
            "  (1010816, 10001)\t69.0\n",
            "  (1010817, 10001)\t149.0\n",
            "  (1010818, 10001)\t45.0\n",
            "  (1010819, 10001)\t14.0\n",
            "  (1010820, 10001)\t155.0\n",
            "  (1010821, 10001)\t170.0\n",
            "  (1010822, 10001)\t149.0\n",
            "  (1010823, 10001)\t53.0\n",
            "  (1010824, 10001)\t226.0\n",
            "  (1010825, 10001)\t84.0\n"
          ],
          "name": "stdout"
        }
      ]
    },
    {
      "cell_type": "markdown",
      "metadata": {
        "id": "BKm8GjpRo3YJ"
      },
      "source": [
        "Nested cross validation\n",
        "\n",
        "---\n",
        "\n",
        "\n",
        "\n",
        "Kfold and Hyperparameter Fine tuning with GRID SEARCH for Logistic regression"
      ]
    },
    {
      "cell_type": "code",
      "metadata": {
        "id": "oje90wYdSTm9",
        "colab": {
          "base_uri": "https://localhost:8080/"
        },
        "outputId": "cc4fdbb9-4ab0-4c7a-b380-94ed6553471e"
      },
      "source": [
        "import sklearn.linear_model as lm\n",
        "from sklearn import pipeline,metrics\n",
        "from sklearn import pipeline,metrics\n",
        "from sklearn.model_selection import GridSearchCV\n",
        "from sklearn.metrics import f1_score,precision_score\n",
        "testsplit=[0.10,0.40,0.50,0.80]\n",
        "score=[]\n",
        "for i in testsplit:\n",
        "  X_train, X_test, y_train, y_test = train_test_split(train_x_sparse, train_y, test_size=i, random_state=3)\n",
        "  lr = lm.LogisticRegression(class_weight=\"balanced\", tol = 0.0001)\n",
        "  clf = pipeline.Pipeline([('lr', lr)])\n",
        "\n",
        "  param_grid = {'lr__C': [10,14,15],\n",
        "                  'lr__penalty':[\"l1\",\"l2\"]}\n",
        "\n",
        "  f_scorer = metrics.make_scorer(f1_score, greater_is_better = True)\n",
        "\n",
        "  model = GridSearchCV(estimator = clf, param_grid=param_grid, scoring=f_scorer,\n",
        "                                     verbose=10, n_jobs=-1, iid=True, refit=True, cv=10)\n",
        "\n",
        "\n",
        "\n",
        "  model.fit(X_train, y_train)\n",
        "  print('test size',i)\n",
        "  print(\"Best score: %0.3f\" % model.best_score_)\n",
        "\n",
        "  print(\"Best parameters set:\")\n",
        "  best_parameters = model.best_estimator_.get_params()\n",
        "  for param_name in sorted(param_grid.keys()):\n",
        "  \tprint(\"\\t%s: %r\" % (param_name, best_parameters[param_name]))\n",
        "  list1=[model.best_score_,i,param_name,best_parameters[param_name]]\n",
        "  score.append(list1)"
      ],
      "execution_count": null,
      "outputs": [
        {
          "output_type": "stream",
          "text": [
            "Fitting 10 folds for each of 6 candidates, totalling 60 fits\n"
          ],
          "name": "stdout"
        },
        {
          "output_type": "stream",
          "text": [
            "[Parallel(n_jobs=-1)]: Using backend LokyBackend with 2 concurrent workers.\n",
            "[Parallel(n_jobs=-1)]: Done   1 tasks      | elapsed:    1.3s\n",
            "[Parallel(n_jobs=-1)]: Done   4 tasks      | elapsed:    1.5s\n",
            "[Parallel(n_jobs=-1)]: Done   9 tasks      | elapsed:    1.9s\n",
            "[Parallel(n_jobs=-1)]: Done  14 tasks      | elapsed:   44.6s\n",
            "[Parallel(n_jobs=-1)]: Done  21 tasks      | elapsed:  1.6min\n",
            "[Parallel(n_jobs=-1)]: Done  28 tasks      | elapsed:  1.6min\n",
            "[Parallel(n_jobs=-1)]: Done  37 tasks      | elapsed:  2.9min\n",
            "[Parallel(n_jobs=-1)]: Done  46 tasks      | elapsed:  3.3min\n",
            "[Parallel(n_jobs=-1)]: Done  57 tasks      | elapsed:  4.6min\n",
            "[Parallel(n_jobs=-1)]: Done  60 out of  60 | elapsed:  5.0min finished\n",
            "/usr/local/lib/python3.7/dist-packages/sklearn/model_selection/_search.py:823: FutureWarning: The parameter 'iid' is deprecated in 0.22 and will be removed in 0.24.\n",
            "  \"removed in 0.24.\", FutureWarning\n",
            "/usr/local/lib/python3.7/dist-packages/sklearn/linear_model/_logistic.py:940: ConvergenceWarning: lbfgs failed to converge (status=1):\n",
            "STOP: TOTAL NO. of ITERATIONS REACHED LIMIT.\n",
            "\n",
            "Increase the number of iterations (max_iter) or scale the data as shown in:\n",
            "    https://scikit-learn.org/stable/modules/preprocessing.html\n",
            "Please also refer to the documentation for alternative solver options:\n",
            "    https://scikit-learn.org/stable/modules/linear_model.html#logistic-regression\n",
            "  extra_warning_msg=_LOGISTIC_SOLVER_CONVERGENCE_MSG)\n"
          ],
          "name": "stderr"
        },
        {
          "output_type": "stream",
          "text": [
            "test size 0.1\n",
            "Best score: 0.568\n",
            "Best parameters set:\n",
            "\tlr__C: 15\n",
            "\tlr__penalty: 'l2'\n",
            "Fitting 10 folds for each of 6 candidates, totalling 60 fits\n"
          ],
          "name": "stdout"
        },
        {
          "output_type": "stream",
          "text": [
            "[Parallel(n_jobs=-1)]: Using backend LokyBackend with 2 concurrent workers.\n",
            "[Parallel(n_jobs=-1)]: Done   1 tasks      | elapsed:    0.2s\n",
            "[Parallel(n_jobs=-1)]: Done   4 tasks      | elapsed:    0.4s\n",
            "[Parallel(n_jobs=-1)]: Done   9 tasks      | elapsed:    0.7s\n",
            "[Parallel(n_jobs=-1)]: Done  14 tasks      | elapsed:   32.5s\n",
            "[Parallel(n_jobs=-1)]: Done  21 tasks      | elapsed:  1.1min\n",
            "[Parallel(n_jobs=-1)]: Done  28 tasks      | elapsed:  1.2min\n",
            "[Parallel(n_jobs=-1)]: Done  37 tasks      | elapsed:  1.9min\n",
            "[Parallel(n_jobs=-1)]: Done  46 tasks      | elapsed:  2.1min\n",
            "[Parallel(n_jobs=-1)]: Done  57 tasks      | elapsed:  2.9min\n",
            "[Parallel(n_jobs=-1)]: Done  60 out of  60 | elapsed:  3.2min finished\n",
            "/usr/local/lib/python3.7/dist-packages/sklearn/model_selection/_search.py:823: FutureWarning: The parameter 'iid' is deprecated in 0.22 and will be removed in 0.24.\n",
            "  \"removed in 0.24.\", FutureWarning\n",
            "/usr/local/lib/python3.7/dist-packages/sklearn/linear_model/_logistic.py:940: ConvergenceWarning: lbfgs failed to converge (status=1):\n",
            "STOP: TOTAL NO. of ITERATIONS REACHED LIMIT.\n",
            "\n",
            "Increase the number of iterations (max_iter) or scale the data as shown in:\n",
            "    https://scikit-learn.org/stable/modules/preprocessing.html\n",
            "Please also refer to the documentation for alternative solver options:\n",
            "    https://scikit-learn.org/stable/modules/linear_model.html#logistic-regression\n",
            "  extra_warning_msg=_LOGISTIC_SOLVER_CONVERGENCE_MSG)\n"
          ],
          "name": "stderr"
        },
        {
          "output_type": "stream",
          "text": [
            "test size 0.4\n",
            "Best score: 0.569\n",
            "Best parameters set:\n",
            "\tlr__C: 14\n",
            "\tlr__penalty: 'l2'\n",
            "Fitting 10 folds for each of 6 candidates, totalling 60 fits\n"
          ],
          "name": "stdout"
        },
        {
          "output_type": "stream",
          "text": [
            "[Parallel(n_jobs=-1)]: Using backend LokyBackend with 2 concurrent workers.\n",
            "[Parallel(n_jobs=-1)]: Done   1 tasks      | elapsed:    0.2s\n",
            "[Parallel(n_jobs=-1)]: Done   4 tasks      | elapsed:    0.3s\n",
            "[Parallel(n_jobs=-1)]: Done   9 tasks      | elapsed:    0.6s\n",
            "[Parallel(n_jobs=-1)]: Done  14 tasks      | elapsed:   28.3s\n",
            "[Parallel(n_jobs=-1)]: Done  21 tasks      | elapsed:   54.0s\n",
            "[Parallel(n_jobs=-1)]: Done  28 tasks      | elapsed:   54.5s\n",
            "[Parallel(n_jobs=-1)]: Done  37 tasks      | elapsed:  1.7min\n",
            "[Parallel(n_jobs=-1)]: Done  46 tasks      | elapsed:  1.9min\n",
            "[Parallel(n_jobs=-1)]: Done  57 tasks      | elapsed:  2.7min\n",
            "[Parallel(n_jobs=-1)]: Done  60 out of  60 | elapsed:  2.9min finished\n",
            "/usr/local/lib/python3.7/dist-packages/sklearn/model_selection/_search.py:823: FutureWarning: The parameter 'iid' is deprecated in 0.22 and will be removed in 0.24.\n",
            "  \"removed in 0.24.\", FutureWarning\n",
            "/usr/local/lib/python3.7/dist-packages/sklearn/linear_model/_logistic.py:940: ConvergenceWarning: lbfgs failed to converge (status=1):\n",
            "STOP: TOTAL NO. of ITERATIONS REACHED LIMIT.\n",
            "\n",
            "Increase the number of iterations (max_iter) or scale the data as shown in:\n",
            "    https://scikit-learn.org/stable/modules/preprocessing.html\n",
            "Please also refer to the documentation for alternative solver options:\n",
            "    https://scikit-learn.org/stable/modules/linear_model.html#logistic-regression\n",
            "  extra_warning_msg=_LOGISTIC_SOLVER_CONVERGENCE_MSG)\n"
          ],
          "name": "stderr"
        },
        {
          "output_type": "stream",
          "text": [
            "test size 0.5\n",
            "Best score: 0.510\n",
            "Best parameters set:\n",
            "\tlr__C: 10\n",
            "\tlr__penalty: 'l2'\n",
            "Fitting 10 folds for each of 6 candidates, totalling 60 fits\n"
          ],
          "name": "stdout"
        },
        {
          "output_type": "stream",
          "text": [
            "[Parallel(n_jobs=-1)]: Using backend LokyBackend with 2 concurrent workers.\n",
            "[Parallel(n_jobs=-1)]: Done   1 tasks      | elapsed:    0.1s\n",
            "[Parallel(n_jobs=-1)]: Batch computation too fast (0.0831s.) Setting batch_size=2.\n",
            "[Parallel(n_jobs=-1)]: Done   4 tasks      | elapsed:    0.2s\n",
            "[Parallel(n_jobs=-1)]: Batch computation too fast (0.1338s.) Setting batch_size=4.\n",
            "[Parallel(n_jobs=-1)]: Done  16 tasks      | elapsed:   11.9s\n",
            "[Parallel(n_jobs=-1)]: Batch computation too slow (11.6881s.) Setting batch_size=1.\n",
            "[Parallel(n_jobs=-1)]: Done  30 tasks      | elapsed:   16.0s\n",
            "[Parallel(n_jobs=-1)]: Done  37 tasks      | elapsed:   23.8s\n",
            "[Parallel(n_jobs=-1)]: Done  44 tasks      | elapsed:   27.3s\n",
            "[Parallel(n_jobs=-1)]: Done  53 tasks      | elapsed:   32.9s\n",
            "[Parallel(n_jobs=-1)]: Done  60 out of  60 | elapsed:   42.5s finished\n",
            "/usr/local/lib/python3.7/dist-packages/sklearn/model_selection/_search.py:823: FutureWarning: The parameter 'iid' is deprecated in 0.22 and will be removed in 0.24.\n",
            "  \"removed in 0.24.\", FutureWarning\n"
          ],
          "name": "stderr"
        },
        {
          "output_type": "stream",
          "text": [
            "test size 0.8\n",
            "Best score: 0.284\n",
            "Best parameters set:\n",
            "\tlr__C: 10\n",
            "\tlr__penalty: 'l2'\n"
          ],
          "name": "stdout"
        }
      ]
    },
    {
      "cell_type": "markdown",
      "metadata": {
        "id": "zCV3msLUpIo4"
      },
      "source": [
        "Logistic regression with best parameters"
      ]
    },
    {
      "cell_type": "code",
      "metadata": {
        "colab": {
          "base_uri": "https://localhost:8080/"
        },
        "id": "pZrBKMblCDRx",
        "outputId": "9a507e89-9975-46ab-abe5-fa2c4b3ce5b1"
      },
      "source": [
        "X_train, X_test, y_train, y_test = train_test_split(train_x_sparse, train_y, test_size=0.40, random_state=3)\n",
        "lr = lm.LogisticRegression(class_weight=\"balanced\", tol = 0.0001, C=14, penalty='l2')\n",
        "LogisticRegression=lr.fit(X_train, y_train)\n",
        "preds =LogisticRegression.predict(X_test)\n"
      ],
      "execution_count": null,
      "outputs": [
        {
          "output_type": "stream",
          "text": [
            "/usr/local/lib/python3.7/dist-packages/sklearn/linear_model/_logistic.py:940: ConvergenceWarning: lbfgs failed to converge (status=1):\n",
            "STOP: TOTAL NO. of ITERATIONS REACHED LIMIT.\n",
            "\n",
            "Increase the number of iterations (max_iter) or scale the data as shown in:\n",
            "    https://scikit-learn.org/stable/modules/preprocessing.html\n",
            "Please also refer to the documentation for alternative solver options:\n",
            "    https://scikit-learn.org/stable/modules/linear_model.html#logistic-regression\n",
            "  extra_warning_msg=_LOGISTIC_SOLVER_CONVERGENCE_MSG)\n"
          ],
          "name": "stderr"
        }
      ]
    },
    {
      "cell_type": "markdown",
      "metadata": {
        "id": "qPfBmS2wpNf2"
      },
      "source": [
        "Logistic regression results"
      ]
    },
    {
      "cell_type": "code",
      "metadata": {
        "id": "ncxEZ-VvC8r8",
        "colab": {
          "base_uri": "https://localhost:8080/"
        },
        "outputId": "3203d1f5-61ea-4e18-cbe7-439d7699678a"
      },
      "source": [
        "from sklearn.metrics import classification_report\n",
        "print(classification_report(y_test, preds))"
      ],
      "execution_count": null,
      "outputs": [
        {
          "output_type": "stream",
          "text": [
            "              precision    recall  f1-score   support\n",
            "\n",
            "           0       0.57      0.60      0.59    201686\n",
            "           1       0.58      0.55      0.57    202645\n",
            "\n",
            "    accuracy                           0.58    404331\n",
            "   macro avg       0.58      0.58      0.58    404331\n",
            "weighted avg       0.58      0.58      0.58    404331\n",
            "\n"
          ],
          "name": "stdout"
        }
      ]
    },
    {
      "cell_type": "code",
      "metadata": {
        "id": "rURIfBXoQ6EN",
        "colab": {
          "base_uri": "https://localhost:8080/",
          "height": 279
        },
        "outputId": "afa04863-139c-48c9-c06d-44ae557ce076"
      },
      "source": [
        "\n",
        "from sklearn.metrics import roc_auc_score\n",
        "from sklearn.metrics import roc_curve\n",
        "from matplotlib import pyplot as plt\n",
        "logit_roc_auc = roc_auc_score(y_test,preds)\n",
        "fpr, tpr, thresholds = roc_curve(y_test, preds)\n",
        "plt.figure()\n",
        "plt.plot(fpr, tpr, label='(area = %0.2f)' % logit_roc_auc)\n",
        "plt.plot([0, 1], [0, 1],'r--')\n",
        "plt.xlim([0.0, 1.0])\n",
        "plt.ylim([0.0, 1.05])\n",
        "plt.xlabel('False Positive Rate')\n",
        "plt.ylabel('True Positive Rate')\n",
        "plt.legend(loc=\"lower right\")\n",
        "plt.savefig('Log_ROC')\n",
        "plt.show()"
      ],
      "execution_count": null,
      "outputs": [
        {
          "output_type": "display_data",
          "data": {
            "image/png": "[encoded data removed]",
            "text/plain": [
              "<Figure size 432x288 with 1 Axes>"
            ]
          },
          "metadata": {
            "tags": [],
            "needs_background": "light"
          }
        }
      ]
    },
    {
      "cell_type": "code",
      "metadata": {
        "id": "R8ckCPG5RLQH",
        "colab": {
          "base_uri": "https://localhost:8080/",
          "height": 312
        },
        "outputId": "10b7ce28-c13d-4f5e-f132-4f27f1e8c80f"
      },
      "source": [
        "\n",
        "cf_matrix = confusion_matrix(y_pred=preds, y_true=y_test)\n",
        "sns.heatmap(cf_matrix, cmap='Blues')\n",
        "plt.ylabel('Predicted label')\n",
        "plt.xlabel('True label')\n",
        "plt.title('Confusion Matrix')\n"
      ],
      "execution_count": null,
      "outputs": [
        {
          "output_type": "execute_result",
          "data": {
            "text/plain": [
              "Text(0.5, 1.0, 'Confusion Matrix')"
            ]
          },
          "metadata": {
            "tags": []
          },
          "execution_count": 26
        },
        {
          "output_type": "display_data",
          "data": {
            "image/png": "[encoded data removed]",
            "text/plain": [
              "<Figure size 432x288 with 2 Axes>"
            ]
          },
          "metadata": {
            "tags": [],
            "needs_background": "light"
          }
        }
      ]
    },
    {
      "cell_type": "code",
      "metadata": {
        "id": "mc1RfGARMcO-"
      },
      "source": [
        "prob=data[['parent_comment']].join(pd.DataFrame(model.predict_proba(x.T)))\n"
      ],
      "execution_count": null,
      "outputs": []
    },
    {
      "cell_type": "code",
      "metadata": {
        "id": "_nSqTeQk2O7R"
      },
      "source": [
        "tfidf_comment = TfidfVectorizer(ngram_range=(1, 2), max_features=10000)\n",
        "comment_sparse = tfidf_comment.fit_transform(data['parent_comment'])\n",
        "polartiy=scipy.sparse.csr_matrix(data['polarity'].values)\n",
        "length=scipy.sparse.csr_matrix(data['length'].values)\n",
        "x =hstack([comment_sparse,polartiy.T,length.T])\n"
      ],
      "execution_count": null,
      "outputs": []
    },
    {
      "cell_type": "code",
      "metadata": {
        "colab": {
          "base_uri": "https://localhost:8080/",
          "height": 402
        },
        "id": "zOU82je23KSv",
        "outputId": "e4b5ae9a-9d60-405e-bc68-f6c22a813f7f"
      },
      "source": [
        "prob=data[['parent_comment']].join(pd.DataFrame(model.predict_proba(x)))\n",
        "\n",
        "prob"
      ],
      "execution_count": null,
      "outputs": [
        {
          "output_type": "execute_result",
          "data": {
            "text/html": [
              "<div>\n",
              "<style scoped>\n",
              "    .dataframe tbody tr th:only-of-type {\n",
              "        vertical-align: middle;\n",
              "    }\n",
              "\n",
              "    .dataframe tbody tr th {\n",
              "        vertical-align: top;\n",
              "    }\n",
              "\n",
              "    .dataframe thead th {\n",
              "        text-align: right;\n",
              "    }\n",
              "</style>\n",
              "<table border=\"1\" class=\"dataframe\">\n",
              "  <thead>\n",
              "    <tr style=\"text-align: right;\">\n",
              "      <th></th>\n",
              "      <th>parent_comment</th>\n",
              "      <th>0</th>\n",
              "      <th>1</th>\n",
              "    </tr>\n",
              "  </thead>\n",
              "  <tbody>\n",
              "    <tr>\n",
              "      <th>0</th>\n",
              "      <td>Yeah, I get that argument. At this point, I'd ...</td>\n",
              "      <td>0.500145</td>\n",
              "      <td>0.499855</td>\n",
              "    </tr>\n",
              "    <tr>\n",
              "      <th>1</th>\n",
              "      <td>The blazers and Mavericks (The wests 5 and 6 s...</td>\n",
              "      <td>0.500243</td>\n",
              "      <td>0.499757</td>\n",
              "    </tr>\n",
              "    <tr>\n",
              "      <th>2</th>\n",
              "      <td>They're favored to win.</td>\n",
              "      <td>0.500042</td>\n",
              "      <td>0.499958</td>\n",
              "    </tr>\n",
              "    <tr>\n",
              "      <th>3</th>\n",
              "      <td>deadass don't kill my buzz</td>\n",
              "      <td>0.500047</td>\n",
              "      <td>0.499953</td>\n",
              "    </tr>\n",
              "    <tr>\n",
              "      <th>4</th>\n",
              "      <td>Yep can confirm I saw the tool they use for th...</td>\n",
              "      <td>0.500154</td>\n",
              "      <td>0.499846</td>\n",
              "    </tr>\n",
              "    <tr>\n",
              "      <th>...</th>\n",
              "      <td>...</td>\n",
              "      <td>...</td>\n",
              "      <td>...</td>\n",
              "    </tr>\n",
              "    <tr>\n",
              "      <th>1010821</th>\n",
              "      <td>No one is calling this an engineered pathogen,...</td>\n",
              "      <td>0.500309</td>\n",
              "      <td>0.499691</td>\n",
              "    </tr>\n",
              "    <tr>\n",
              "      <th>1010822</th>\n",
              "      <td>In a move typical of their recent do-nothing a...</td>\n",
              "      <td>0.500271</td>\n",
              "      <td>0.499729</td>\n",
              "    </tr>\n",
              "    <tr>\n",
              "      <th>1010823</th>\n",
              "      <td>Screw the Disabled--I've got to get to Church ...</td>\n",
              "      <td>0.500096</td>\n",
              "      <td>0.499904</td>\n",
              "    </tr>\n",
              "    <tr>\n",
              "      <th>1010824</th>\n",
              "      <td>I've always been unsettled by that. I hear a l...</td>\n",
              "      <td>0.500410</td>\n",
              "      <td>0.499590</td>\n",
              "    </tr>\n",
              "    <tr>\n",
              "      <th>1010825</th>\n",
              "      <td>Why do the people who make our laws seem unabl...</td>\n",
              "      <td>0.500153</td>\n",
              "      <td>0.499847</td>\n",
              "    </tr>\n",
              "  </tbody>\n",
              "</table>\n",
              "<p>1010826 rows × 3 columns</p>\n",
              "</div>"
            ],
            "text/plain": [
              "                                            parent_comment         0         1\n",
              "0        Yeah, I get that argument. At this point, I'd ...  0.500145  0.499855\n",
              "1        The blazers and Mavericks (The wests 5 and 6 s...  0.500243  0.499757\n",
              "2                                  They're favored to win.  0.500042  0.499958\n",
              "3                               deadass don't kill my buzz  0.500047  0.499953\n",
              "4        Yep can confirm I saw the tool they use for th...  0.500154  0.499846\n",
              "...                                                    ...       ...       ...\n",
              "1010821  No one is calling this an engineered pathogen,...  0.500309  0.499691\n",
              "1010822  In a move typical of their recent do-nothing a...  0.500271  0.499729\n",
              "1010823  Screw the Disabled--I've got to get to Church ...  0.500096  0.499904\n",
              "1010824  I've always been unsettled by that. I hear a l...  0.500410  0.499590\n",
              "1010825  Why do the people who make our laws seem unabl...  0.500153  0.499847\n",
              "\n",
              "[1010826 rows x 3 columns]"
            ]
          },
          "metadata": {
            "tags": []
          },
          "execution_count": 39
        }
      ]
    },
    {
      "cell_type": "markdown",
      "metadata": {
        "id": "aCwM2p9QTOKg"
      },
      "source": [
        "LSTM"
      ]
    },
    {
      "cell_type": "code",
      "metadata": {
        "id": "qV70LMdgUDip"
      },
      "source": [
        "from numpy import array\n",
        "from keras.preprocessing.text import one_hot\n",
        "from keras.preprocessing.sequence import pad_sequences\n",
        "from keras.models import Sequential\n",
        "from keras.layers.core import Activation, Dropout, Dense\n",
        "from keras.layers import Flatten\n",
        "from keras.layers import GlobalMaxPooling1D\n",
        "from keras.layers.embeddings import Embedding\n",
        "from sklearn.model_selection import train_test_split\n",
        "from keras.preprocessing.text import Tokenizer\n",
        "import numpy\n",
        "from keras.datasets import imdb\n",
        "from keras.models import Sequential\n",
        "from keras.layers import Dense\n",
        "from keras.layers import LSTM\n",
        "from keras.layers.embeddings import Embedding\n",
        "from keras.preprocessing import sequence"
      ],
      "execution_count": 1,
      "outputs": []
    },
    {
      "cell_type": "code",
      "metadata": {
        "id": "agAk2Ry3TQa8"
      },
      "source": [
        "def tokenize(text):\n",
        "      tokenizer.fit_on_texts(text)\n",
        "      xx=tokenizer.texts_to_sequences(text)\n",
        "      return xx"
      ],
      "execution_count": null,
      "outputs": []
    },
    {
      "cell_type": "markdown",
      "metadata": {
        "id": "uf_nxvFIpU-N"
      },
      "source": [
        "Tokenizing parent_comment for Embeddings in LSTM"
      ]
    },
    {
      "cell_type": "code",
      "metadata": {
        "id": "8bfIMyivTgCQ"
      },
      "source": [
        "tokenizer = Tokenizer(num_words=10000, lower= 1, oov_token=\"<OOV>\")\n",
        "tokenizer.fit_on_texts(data.parent_comment)\n",
        "sequences = tokenizer.texts_to_sequences(data.parent_comment)\n",
        "x=pad_sequences(sequences, padding='post',maxlen=len(max(sequences)))"
      ],
      "execution_count": null,
      "outputs": []
    },
    {
      "cell_type": "code",
      "metadata": {
        "id": "C68-WXQiUIOD"
      },
      "source": [
        "maxlen=len(max(sequences))"
      ],
      "execution_count": null,
      "outputs": []
    },
    {
      "cell_type": "code",
      "metadata": {
        "id": "W8MU-p-GUJdu"
      },
      "source": [
        "y=data['label']"
      ],
      "execution_count": null,
      "outputs": []
    },
    {
      "cell_type": "markdown",
      "metadata": {
        "id": "v7q4akrIKK6f"
      },
      "source": [
        "cross validation for Neural networks"
      ]
    },
    {
      "cell_type": "code",
      "metadata": {
        "id": "D_bp4bOiUK39"
      },
      "source": [
        "X_train, X_test, y_train, y_test = train_test_split(x, y, test_size=0.20, random_state=3)"
      ],
      "execution_count": null,
      "outputs": []
    },
    {
      "cell_type": "code",
      "metadata": {
        "id": "h2HY8mlH_yUd"
      },
      "source": [
        "X_t, X_v, y_t, y_v = train_test_split(X_train, y_train, test_size=0.20, random_state=3)"
      ],
      "execution_count": null,
      "outputs": []
    },
    {
      "cell_type": "code",
      "metadata": {
        "id": "skPCH4k7UNXc",
        "colab": {
          "base_uri": "https://localhost:8080/"
        },
        "outputId": "2b88a088-68c9-4079-8a4f-274a09e8a1a3"
      },
      "source": [
        "embedding_vecor_length = 32\n",
        "model = Sequential()\n",
        "model.add(Embedding(10000, embedding_vecor_length, input_length=maxlen))\n",
        "model.add(LSTM(100))\n",
        "model.add(Dense(10, activation='relu'))\n",
        "model.add(Dense(1, activation='sigmoid'))\n",
        "model.compile(loss='binary_crossentropy', optimizer='adam', metrics=['accuracy'])\n",
        "print(model.summary())\n",
        "model.fit(X_t, y_t, validation_data=(X_v, y_v), epochs=5, batch_size=32)"
      ],
      "execution_count": null,
      "outputs": [
        {
          "output_type": "stream",
          "text": [
            "Model: \"sequential_2\"\n",
            "_________________________________________________________________\n",
            "Layer (type)                 Output Shape              Param #   \n",
            "=================================================================\n",
            "embedding_2 (Embedding)      (None, 21, 32)            320000    \n",
            "_________________________________________________________________\n",
            "lstm_2 (LSTM)                (None, 100)               53200     \n",
            "_________________________________________________________________\n",
            "dense_2 (Dense)              (None, 10)                1010      \n",
            "_________________________________________________________________\n",
            "dense_3 (Dense)              (None, 1)                 11        \n",
            "=================================================================\n",
            "Total params: 374,221\n",
            "Trainable params: 374,221\n",
            "Non-trainable params: 0\n",
            "_________________________________________________________________\n",
            "None\n",
            "Epoch 1/5\n",
            "20217/20217 [==============================] - 160s 8ms/step - loss: 0.6819 - accuracy: 0.5570 - val_loss: 0.6728 - val_accuracy: 0.5814\n",
            "Epoch 2/5\n",
            "20217/20217 [==============================] - 158s 8ms/step - loss: 0.6642 - accuracy: 0.5980 - val_loss: 0.6725 - val_accuracy: 0.5796\n",
            "Epoch 3/5\n",
            "20217/20217 [==============================] - 158s 8ms/step - loss: 0.6545 - accuracy: 0.6106 - val_loss: 0.6764 - val_accuracy: 0.5793\n",
            "Epoch 4/5\n",
            "20217/20217 [==============================] - 157s 8ms/step - loss: 0.6442 - accuracy: 0.6230 - val_loss: 0.6812 - val_accuracy: 0.5757\n",
            "Epoch 5/5\n",
            "20217/20217 [==============================] - 157s 8ms/step - loss: 0.6325 - accuracy: 0.6350 - val_loss: 0.6862 - val_accuracy: 0.5727\n"
          ],
          "name": "stdout"
        },
        {
          "output_type": "execute_result",
          "data": {
            "text/plain": [
              "<tensorflow.python.keras.callbacks.History at 0x7f0807bc5950>"
            ]
          },
          "metadata": {
            "tags": []
          },
          "execution_count": 59
        }
      ]
    },
    {
      "cell_type": "markdown",
      "metadata": {
        "id": "7PA91kHEpbYv"
      },
      "source": [
        "LSTM results"
      ]
    },
    {
      "cell_type": "code",
      "metadata": {
        "id": "wOFP_dL4GoJK"
      },
      "source": [
        "preds=model.predict(X_test)"
      ],
      "execution_count": null,
      "outputs": []
    },
    {
      "cell_type": "code",
      "metadata": {
        "colab": {
          "base_uri": "https://localhost:8080/"
        },
        "id": "D49ZP7ITRMnY",
        "outputId": "37af3924-f850-4087-9268-af0b6baaa8f7"
      },
      "source": [
        "predicted = (preds > 0.5).astype(np.int)\n",
        "print(predicted)"
      ],
      "execution_count": null,
      "outputs": [
        {
          "output_type": "stream",
          "text": [
            "[[1]\n",
            " [0]\n",
            " [0]\n",
            " ...\n",
            " [1]\n",
            " [0]\n",
            " [0]]\n"
          ],
          "name": "stdout"
        }
      ]
    },
    {
      "cell_type": "code",
      "metadata": {
        "colab": {
          "base_uri": "https://localhost:8080/"
        },
        "id": "AkWvAao8GSFu",
        "outputId": "9315f0f3-b508-4c34-9c02-b609398d1bb1"
      },
      "source": [
        "from sklearn.metrics import classification_report\n",
        "print(classification_report(y_test, predicted))"
      ],
      "execution_count": null,
      "outputs": [
        {
          "output_type": "stream",
          "text": [
            "              precision    recall  f1-score   support\n",
            "\n",
            "           0       0.57      0.59      0.58    100800\n",
            "           1       0.58      0.56      0.57    101366\n",
            "\n",
            "    accuracy                           0.57    202166\n",
            "   macro avg       0.57      0.57      0.57    202166\n",
            "weighted avg       0.57      0.57      0.57    202166\n",
            "\n"
          ],
          "name": "stdout"
        }
      ]
    },
    {
      "cell_type": "code",
      "metadata": {
        "colab": {
          "base_uri": "https://localhost:8080/",
          "height": 279
        },
        "id": "ufySUsVzGV1v",
        "outputId": "04a5a9c1-9f4f-4730-b441-b9975197e84f"
      },
      "source": [
        "\n",
        "from sklearn.metrics import roc_auc_score\n",
        "from sklearn.metrics import roc_curve\n",
        "from matplotlib import pyplot as plt\n",
        "logit_roc_auc = roc_auc_score(y_test,predicted)\n",
        "fpr, tpr, thresholds = roc_curve(y_test, predicted)\n",
        "plt.figure()\n",
        "plt.plot(fpr, tpr, label='(area = %0.2f)' % logit_roc_auc)\n",
        "plt.plot([0, 1], [0, 1],'r--')\n",
        "plt.xlim([0.0, 1.0])\n",
        "plt.ylim([0.0, 1.05])\n",
        "plt.xlabel('False Positive Rate')\n",
        "plt.ylabel('True Positive Rate')\n",
        "plt.legend(loc=\"lower right\")\n",
        "plt.savefig('Log_ROC')\n",
        "plt.show()"
      ],
      "execution_count": null,
      "outputs": [
        {
          "output_type": "display_data",
          "data": {
            "image/png": "[encoded data removed]",
            "text/plain": [
              "<Figure size 432x288 with 1 Axes>"
            ]
          },
          "metadata": {
            "tags": [],
            "needs_background": "light"
          }
        }
      ]
    },
    {
      "cell_type": "code",
      "metadata": {
        "colab": {
          "base_uri": "https://localhost:8080/",
          "height": 312
        },
        "id": "Y3SLll_1GYe7",
        "outputId": "21c21f7d-bfb9-4508-9a73-7c05f84ca28e"
      },
      "source": [
        "cf_matrix = confusion_matrix(y_pred=predicted, y_true=y_test)\n",
        "sns.heatmap(cf_matrix, cmap='Blues')\n",
        "plt.ylabel('Predicted label')\n",
        "plt.xlabel('True label')\n",
        "plt.title('Confusion Matrix')\n"
      ],
      "execution_count": null,
      "outputs": [
        {
          "output_type": "execute_result",
          "data": {
            "text/plain": [
              "Text(0.5, 1.0, 'Confusion Matrix')"
            ]
          },
          "metadata": {
            "tags": []
          },
          "execution_count": 64
        },
        {
          "output_type": "display_data",
          "data": {
            "image/png": "[encoded data removed]",
            "text/plain": [
              "<Figure size 432x288 with 2 Axes>"
            ]
          },
          "metadata": {
            "tags": [],
            "needs_background": "light"
          }
        }
      ]
    },
    {
      "cell_type": "markdown",
      "metadata": {
        "id": "HIIJs0KIRWrL"
      },
      "source": [
        "BI-Directional LSTM"
      ]
    },
    {
      "cell_type": "code",
      "metadata": {
        "id": "p1oSDC3bM7AP"
      },
      "source": [
        "embedding_vecor_length = 32\n",
        "from keras.layers.merge import concatenate\n",
        "from tensorflow.keras import layers\n",
        "from keras.layers import Bidirectional\n",
        "from tensorflow import keras\n",
        "from keras.layers import TimeDistributed\n"
      ],
      "execution_count": null,
      "outputs": []
    },
    {
      "cell_type": "markdown",
      "metadata": {
        "id": "lTEX5WKXWt7Y"
      },
      "source": [
        "cross validation for Neural networks"
      ]
    },
    {
      "cell_type": "code",
      "metadata": {
        "colab": {
          "base_uri": "https://localhost:8080/"
        },
        "id": "hFjMZA22J9Jq",
        "outputId": "56834e77-79ee-4f0f-c096-802808f839a5"
      },
      "source": [
        "model = Sequential()\n",
        "model.add(Embedding(10000, embedding_vecor_length, input_length=maxlen))\n",
        "#Left\n",
        "model.add(Bidirectional(LSTM(100, return_sequences=True, activation='tanh')))  \n",
        "#Right\n",
        "model.add(Bidirectional(LSTM(64, return_sequences=True, activation='tanh', go_backwards=True)))\n",
        "model.add(TimeDistributed(Dense(1, activation='sigmoid')))\n",
        "model.compile(loss='binary_crossentropy', optimizer='adam', metrics=['accuracy'])\n",
        "print(model.summary())\n",
        "model.fit(X_t, y_t, validation_data=(X_v, y_v), epochs=3, batch_size=64)\n"
      ],
      "execution_count": null,
      "outputs": [
        {
          "output_type": "stream",
          "text": [
            "Model: \"sequential_52\"\n",
            "_________________________________________________________________\n",
            "Layer (type)                 Output Shape              Param #   \n",
            "=================================================================\n",
            "embedding_29 (Embedding)     (None, 21, 32)            320000    \n",
            "_________________________________________________________________\n",
            "bidirectional_28 (Bidirectio (None, 21, 200)           106400    \n",
            "_________________________________________________________________\n",
            "bidirectional_29 (Bidirectio (None, 21, 128)           135680    \n",
            "_________________________________________________________________\n",
            "time_distributed_1 (TimeDist (None, 21, 1)             129       \n",
            "=================================================================\n",
            "Total params: 562,209\n",
            "Trainable params: 562,209\n",
            "Non-trainable params: 0\n",
            "_________________________________________________________________\n",
            "None\n",
            "Epoch 1/3\n",
            "10109/10109 [==============================] - 160s 15ms/step - loss: 0.6800 - accuracy: 0.5643 - val_loss: 0.6736 - val_accuracy: 0.5824\n",
            "Epoch 2/3\n",
            "10109/10109 [==============================] - 153s 15ms/step - loss: 0.6655 - accuracy: 0.5960 - val_loss: 0.6723 - val_accuracy: 0.5812\n",
            "Epoch 3/3\n",
            "10109/10109 [==============================] - 154s 15ms/step - loss: 0.6575 - accuracy: 0.6083 - val_loss: 0.6752 - val_accuracy: 0.5810\n"
          ],
          "name": "stdout"
        },
        {
          "output_type": "execute_result",
          "data": {
            "text/plain": [
              "<tensorflow.python.keras.callbacks.History at 0x7f1ffe07f190>"
            ]
          },
          "metadata": {
            "tags": []
          },
          "execution_count": 92
        }
      ]
    },
    {
      "cell_type": "markdown",
      "metadata": {
        "id": "fcwfOdYDRi8X"
      },
      "source": [
        "Bi-Directional LSTM Results"
      ]
    },
    {
      "cell_type": "code",
      "metadata": {
        "id": "4eIu6QAuRexo"
      },
      "source": [
        "preds=model.predict(X_test)"
      ],
      "execution_count": null,
      "outputs": []
    },
    {
      "cell_type": "code",
      "metadata": {
        "id": "-gP0V3YJd6b3"
      },
      "source": [
        "pred=[]\n",
        "for i in range(len(preds)):\n",
        "  pred.append(max(preds[i]))"
      ],
      "execution_count": null,
      "outputs": []
    },
    {
      "cell_type": "code",
      "metadata": {
        "id": "_yVU1rCheuA6"
      },
      "source": [
        "pred=np.asarray(pred)"
      ],
      "execution_count": null,
      "outputs": []
    },
    {
      "cell_type": "code",
      "metadata": {
        "id": "LB_EZgiVRn0M"
      },
      "source": [
        "predicted = (pred > 0.5).astype(np.int)\n"
      ],
      "execution_count": null,
      "outputs": []
    },
    {
      "cell_type": "code",
      "metadata": {
        "colab": {
          "base_uri": "https://localhost:8080/"
        },
        "id": "0wYEv2INSBEC",
        "outputId": "04bf4337-96f4-4407-a6c8-ab369b97db28"
      },
      "source": [
        "from sklearn.metrics import classification_report\n",
        "print(classification_report(y_test, predicted))"
      ],
      "execution_count": null,
      "outputs": [
        {
          "output_type": "stream",
          "text": [
            "              precision    recall  f1-score   support\n",
            "\n",
            "           0       0.58      0.57      0.58    100800\n",
            "           1       0.58      0.60      0.59    101366\n",
            "\n",
            "    accuracy                           0.58    202166\n",
            "   macro avg       0.58      0.58      0.58    202166\n",
            "weighted avg       0.58      0.58      0.58    202166\n",
            "\n"
          ],
          "name": "stdout"
        }
      ]
    },
    {
      "cell_type": "code",
      "metadata": {
        "colab": {
          "base_uri": "https://localhost:8080/",
          "height": 279
        },
        "id": "FrBLO0SGSKUm",
        "outputId": "a3eba620-a7db-4b04-f149-f1fdbe8b27a5"
      },
      "source": [
        "from sklearn.metrics import roc_auc_score\n",
        "from sklearn.metrics import roc_curve\n",
        "from matplotlib import pyplot as plt\n",
        "logit_roc_auc = roc_auc_score(y_test,predicted)\n",
        "fpr, tpr, thresholds = roc_curve(y_test, predicted)\n",
        "plt.figure()\n",
        "plt.plot(fpr, tpr, label='(area = %0.2f)' % logit_roc_auc)\n",
        "plt.plot([0, 1], [0, 1],'r--')\n",
        "plt.xlim([0.0, 1.0])\n",
        "plt.ylim([0.0, 1.05])\n",
        "plt.xlabel('False Positive Rate')\n",
        "plt.ylabel('True Positive Rate')\n",
        "plt.legend(loc=\"lower right\")\n",
        "plt.savefig('Log_ROC')\n",
        "plt.show()"
      ],
      "execution_count": null,
      "outputs": [
        {
          "output_type": "display_data",
          "data": {
            "image/png": "[encoded data removed]",
            "text/plain": [
              "<Figure size 432x288 with 1 Axes>"
            ]
          },
          "metadata": {
            "tags": [],
            "needs_background": "light"
          }
        }
      ]
    },
    {
      "cell_type": "code",
      "metadata": {
        "colab": {
          "base_uri": "https://localhost:8080/",
          "height": 312
        },
        "id": "bTjGC1j2SNAg",
        "outputId": "2d67eb9e-2768-406f-e46c-cc1e19d604af"
      },
      "source": [
        "cf_matrix = confusion_matrix(y_pred=predicted, y_true=y_test)\n",
        "sns.heatmap(cf_matrix, cmap='Blues')\n",
        "plt.ylabel('Predicted label')\n",
        "plt.xlabel('True label')\n",
        "plt.title('Confusion Matrix')\n"
      ],
      "execution_count": null,
      "outputs": [
        {
          "output_type": "execute_result",
          "data": {
            "text/plain": [
              "Text(0.5, 1.0, 'Confusion Matrix')"
            ]
          },
          "metadata": {
            "tags": []
          },
          "execution_count": 99
        },
        {
          "output_type": "display_data",
          "data": {
            "image/png": "[encoded data removed]",
            "text/plain": [
              "<Figure size 432x288 with 2 Axes>"
            ]
          },
          "metadata": {
            "tags": [],
            "needs_background": "light"
          }
        }
      ]
    },
    {
      "cell_type": "markdown",
      "metadata": {
        "id": "uNgIpf6RAu3h"
      },
      "source": [
        "Using Bert for word embeddings for LSTM"
      ]
    },
    {
      "cell_type": "code",
      "metadata": {
        "id": "Rbik3vnzA9Dl",
        "colab": {
          "base_uri": "https://localhost:8080/"
        },
        "outputId": "54e541b0-dbaf-4a91-d756-c6db2e38f723"
      },
      "source": [
        "!pip install pytorch-pretrained-bert pytorch-nlp\n",
        "!pip install -q bert-for-tf2\n",
        "!pip install -q sentencepiece\n"
      ],
      "execution_count": 3,
      "outputs": [
        {
          "output_type": "stream",
          "text": [
            "Collecting pytorch-pretrained-bert\n",
            "\u001b[?25l  Downloading https://files.pythonhosted.org/packages/d7/e0/c08d5553b89973d9a240605b9c12404bcf8227590de62bae27acbcfe076b/pytorch_pretrained_bert-0.6.2-py3-none-any.whl (123kB)\n",
            "\u001b[K     |████████████████████████████████| 133kB 6.7MB/s \n",
            "\u001b[?25hCollecting pytorch-nlp\n",
            "\u001b[?25l  Downloading https://files.pythonhosted.org/packages/4f/51/f0ee1efb75f7cc2e3065c5da1363d6be2eec79691b2821594f3f2329528c/pytorch_nlp-0.5.0-py3-none-any.whl (90kB)\n",
            "\u001b[K     |████████████████████████████████| 92kB 6.1MB/s \n",
            "\u001b[?25hRequirement already satisfied: tqdm in /usr/local/lib/python3.7/dist-packages (from pytorch-pretrained-bert) (4.41.1)\n",
            "Requirement already satisfied: regex in /usr/local/lib/python3.7/dist-packages (from pytorch-pretrained-bert) (2019.12.20)\n",
            "Requirement already satisfied: numpy in /usr/local/lib/python3.7/dist-packages (from pytorch-pretrained-bert) (1.19.5)\n",
            "Requirement already satisfied: torch>=0.4.1 in /usr/local/lib/python3.7/dist-packages (from pytorch-pretrained-bert) (1.8.1+cu101)\n",
            "Collecting boto3\n",
            "\u001b[?25l  Downloading https://files.pythonhosted.org/packages/29/fe/6156cb9ad11c01728adaaf6eebd855e66ac17d12a3826cb6fa6d3c2b3dab/boto3-1.17.78-py2.py3-none-any.whl (131kB)\n",
            "\u001b[K     |████████████████████████████████| 133kB 10.6MB/s \n",
            "\u001b[?25hRequirement already satisfied: requests in /usr/local/lib/python3.7/dist-packages (from pytorch-pretrained-bert) (2.23.0)\n",
            "Requirement already satisfied: typing-extensions in /usr/local/lib/python3.7/dist-packages (from torch>=0.4.1->pytorch-pretrained-bert) (3.7.4.3)\n",
            "Collecting jmespath<1.0.0,>=0.7.1\n",
            "  Downloading https://files.pythonhosted.org/packages/07/cb/5f001272b6faeb23c1c9e0acc04d48eaaf5c862c17709d20e3469c6e0139/jmespath-0.10.0-py2.py3-none-any.whl\n",
            "Collecting s3transfer<0.5.0,>=0.4.0\n",
            "\u001b[?25l  Downloading https://files.pythonhosted.org/packages/63/d0/693477c688348654ddc21dcdce0817653a294aa43f41771084c25e7ff9c7/s3transfer-0.4.2-py2.py3-none-any.whl (79kB)\n",
            "\u001b[K     |████████████████████████████████| 81kB 7.3MB/s \n",
            "\u001b[?25hCollecting botocore<1.21.0,>=1.20.78\n",
            "\u001b[?25l  Downloading https://files.pythonhosted.org/packages/b4/9e/b5c2ba127c653d22b5b9a48b173fb3e12f3bafc4f6c52004fa737157e63b/botocore-1.20.78-py2.py3-none-any.whl (7.5MB)\n",
            "\u001b[K     |████████████████████████████████| 7.6MB 13.2MB/s \n",
            "\u001b[?25hRequirement already satisfied: chardet<4,>=3.0.2 in /usr/local/lib/python3.7/dist-packages (from requests->pytorch-pretrained-bert) (3.0.4)\n",
            "Requirement already satisfied: idna<3,>=2.5 in /usr/local/lib/python3.7/dist-packages (from requests->pytorch-pretrained-bert) (2.10)\n",
            "Requirement already satisfied: urllib3!=1.25.0,!=1.25.1,<1.26,>=1.21.1 in /usr/local/lib/python3.7/dist-packages (from requests->pytorch-pretrained-bert) (1.24.3)\n",
            "Requirement already satisfied: certifi>=2017.4.17 in /usr/local/lib/python3.7/dist-packages (from requests->pytorch-pretrained-bert) (2020.12.5)\n",
            "Requirement already satisfied: python-dateutil<3.0.0,>=2.1 in /usr/local/lib/python3.7/dist-packages (from botocore<1.21.0,>=1.20.78->boto3->pytorch-pretrained-bert) (2.8.1)\n",
            "Requirement already satisfied: six>=1.5 in /usr/local/lib/python3.7/dist-packages (from python-dateutil<3.0.0,>=2.1->botocore<1.21.0,>=1.20.78->boto3->pytorch-pretrained-bert) (1.15.0)\n",
            "\u001b[31mERROR: botocore 1.20.78 has requirement urllib3<1.27,>=1.25.4, but you'll have urllib3 1.24.3 which is incompatible.\u001b[0m\n",
            "Installing collected packages: jmespath, botocore, s3transfer, boto3, pytorch-pretrained-bert, pytorch-nlp\n",
            "Successfully installed boto3-1.17.78 botocore-1.20.78 jmespath-0.10.0 pytorch-nlp-0.5.0 pytorch-pretrained-bert-0.6.2 s3transfer-0.4.2\n",
            "\u001b[K     |████████████████████████████████| 51kB 4.4MB/s \n",
            "\u001b[?25h  Building wheel for bert-for-tf2 (setup.py) ... \u001b[?25l\u001b[?25hdone\n",
            "  Building wheel for py-params (setup.py) ... \u001b[?25l\u001b[?25hdone\n",
            "  Building wheel for params-flow (setup.py) ... \u001b[?25l\u001b[?25hdone\n",
            "\u001b[K     |████████████████████████████████| 1.2MB 8.2MB/s \n",
            "\u001b[?25h"
          ],
          "name": "stdout"
        }
      ]
    },
    {
      "cell_type": "code",
      "metadata": {
        "id": "FgjiXrPsAuYt",
        "colab": {
          "base_uri": "https://localhost:8080/",
          "height": 52
        },
        "outputId": "163f4733-18dc-4b92-bb32-582300436c67"
      },
      "source": [
        "import tensorflow as tf\n",
        "import tensorflow as tf\n",
        "import tensorflow_hub as hub\n",
        "from tensorflow.keras import layers\n",
        "import bert\n",
        "device_name = tf.test.gpu_device_name()\n",
        "if device_name != '/device:GPU:0':\n",
        "  raise SystemError('GPU device not found')\n",
        "print('Found GPU at: {}'.format(device_name))\n",
        "import torch\n",
        "from torch.utils.data import TensorDataset, DataLoader, RandomSampler, SequentialSampler\n",
        "from keras.preprocessing.sequence import pad_sequences\n",
        "from sklearn.model_selection import train_test_split\n",
        "from pytorch_pretrained_bert import BertTokenizer, BertConfig\n",
        "from pytorch_pretrained_bert import BertAdam, BertForSequenceClassification\n",
        "from tqdm import tqdm, trange\n",
        "import pandas as pd\n",
        "import io\n",
        "import random\n",
        "import numpy as np\n",
        "import matplotlib.pyplot as plt\n",
        "import math\n",
        "\n",
        "% matplotlib inline\n",
        "device = torch.device(\"cuda\" if torch.cuda.is_available() else \"cpu\")\n",
        "n_gpu = torch.cuda.device_count()\n",
        "torch.cuda.get_device_name(0)"
      ],
      "execution_count": null,
      "outputs": [
        {
          "output_type": "stream",
          "text": [
            "Found GPU at: /device:GPU:0\n"
          ],
          "name": "stdout"
        },
        {
          "output_type": "execute_result",
          "data": {
            "application/vnd.google.colaboratory.intrinsic+json": {
              "type": "string"
            },
            "text/plain": [
              "'Tesla T4'"
            ]
          },
          "metadata": {
            "tags": []
          },
          "execution_count": 66
        }
      ]
    },
    {
      "cell_type": "markdown",
      "metadata": {
        "id": "SWtH86ITpomv"
      },
      "source": [
        "BERT EMBEDDINGS"
      ]
    },
    {
      "cell_type": "code",
      "metadata": {
        "id": "uexhREb5A_Zs"
      },
      "source": [
        "BertTokenizer = bert.bert_tokenization.FullTokenizer\n",
        "bert_layer = hub.KerasLayer(\"https://tfhub.dev/tensorflow/bert_en_uncased_L-12_H-768_A-12/1\",\n",
        "                            trainable=False)\n",
        "vocabulary_file = bert_layer.resolved_object.vocab_file.asset_path.numpy()\n",
        "to_lower_case = bert_layer.resolved_object.do_lower_case.numpy()\n",
        "tokenizer = BertTokenizer(vocabulary_file, to_lower_case)"
      ],
      "execution_count": null,
      "outputs": []
    },
    {
      "cell_type": "code",
      "metadata": {
        "id": "_IQ_YnshBUXD"
      },
      "source": [
        "def tokenize(text):\n",
        "    return tokenizer.convert_tokens_to_ids(tokenizer.tokenize(text))"
      ],
      "execution_count": null,
      "outputs": []
    },
    {
      "cell_type": "code",
      "metadata": {
        "id": "ZM1gJWELBWJx"
      },
      "source": [
        "tokenize=data['parent_comment'].apply(lambda x:tokenize(x))\n",
        "\n",
        "sequence = [[comment, data.label[i], len(comment)]\n",
        "                 for i, comment in enumerate(tokenize)]\n",
        "\n",
        " \n",
        "random.shuffle(sequence)"
      ],
      "execution_count": null,
      "outputs": []
    },
    {
      "cell_type": "code",
      "metadata": {
        "id": "sGsyGxc9Bc49"
      },
      "source": [
        "sequence.sort(key=lambda x: x[2])\n",
        "sorted_seq = [(comm[0], comm[1]) for comm in sequence]"
      ],
      "execution_count": null,
      "outputs": []
    },
    {
      "cell_type": "code",
      "metadata": {
        "id": "4DPD_K7jBl7I"
      },
      "source": [
        "df = tf.data.Dataset.from_generator(lambda: sorted_seq, output_types=(tf.int32, tf.int32))\n",
        "BATCH_SIZE = 32\n",
        "batched_dataset = df.padded_batch(BATCH_SIZE, padded_shapes=((None, ), ()))"
      ],
      "execution_count": null,
      "outputs": []
    },
    {
      "cell_type": "markdown",
      "metadata": {
        "id": "d1OgfLtUKjL2"
      },
      "source": [
        "cross validation for Neural networks,\n",
        "\n",
        "divided data into train and test\n",
        "then divided train to train and valid to tune hyperparametrs,and the best fine tuned hyperparmeters are predicted on test\n",
        "\n",
        "Best parameters selected with manual fine tuning"
      ]
    },
    {
      "cell_type": "code",
      "metadata": {
        "id": "JsombF0KBpUz"
      },
      "source": [
        "TOTAL_BATCHES = math.ceil(len(sorted_seq) / BATCH_SIZE)\n",
        "batched_dataset.shuffle(TOTAL_BATCHES)\n",
        "train_data = batched_dataset.skip(10000)\n",
        "valid_data=train_data.skip(18589)\n",
        "train_data1=train_data.skip(2000)\n",
        "test_data = batched_dataset.skip(20589)"
      ],
      "execution_count": null,
      "outputs": []
    },
    {
      "cell_type": "code",
      "metadata": {
        "id": "G9JovGeZ6Tdl"
      },
      "source": [
        "vocabulary_size = len(tokenizer.vocab)\n",
        "embedding_dimensions = 200"
      ],
      "execution_count": null,
      "outputs": []
    },
    {
      "cell_type": "code",
      "metadata": {
        "colab": {
          "base_uri": "https://localhost:8080/"
        },
        "id": "veVbVh3X5vrH",
        "outputId": "a616a317-0600-4126-fccb-6ff0027c03d6"
      },
      "source": [
        "model = Sequential()\n",
        "model.add(Embedding(vocabulary_size,embedding_dimensions))\n",
        "model.add(LSTM(100))\n",
        "model.add(Dense(1, activation='sigmoid'))\n",
        "model.compile(loss='binary_crossentropy', optimizer='adam', metrics=['accuracy'])\n",
        "print(model.summary())\n",
        "model.fit(train_data1, validation_data=(valid_data), epochs=4, batch_size=64)"
      ],
      "execution_count": null,
      "outputs": [
        {
          "output_type": "stream",
          "text": [
            "Model: \"sequential_4\"\n",
            "_________________________________________________________________\n",
            "Layer (type)                 Output Shape              Param #   \n",
            "=================================================================\n",
            "embedding_4 (Embedding)      (None, None, 200)         6104400   \n",
            "_________________________________________________________________\n",
            "lstm_4 (LSTM)                (None, 100)               120400    \n",
            "_________________________________________________________________\n",
            "dense_5 (Dense)              (None, 1)                 101       \n",
            "=================================================================\n",
            "Total params: 6,224,901\n",
            "Trainable params: 6,224,901\n",
            "Non-trainable params: 0\n",
            "_________________________________________________________________\n",
            "None\n",
            "Epoch 1/4\n",
            "19589/19589 [==============================] - 1381s 68ms/step - loss: 0.6759 - accuracy: 0.5738 - val_loss: 0.6636 - val_accuracy: 0.5987\n",
            "Epoch 2/4\n",
            "19589/19589 [==============================] - 1445s 72ms/step - loss: 0.6423 - accuracy: 0.6258 - val_loss: 0.6428 - val_accuracy: 0.6558\n",
            "Epoch 3/4\n",
            "19589/19589 [==============================] - 1412s 70ms/step - loss: 0.5768 - accuracy: 0.6914 - val_loss: 0.5483 - val_accuracy: 0.7564\n",
            "Epoch 4/4\n",
            "19589/19589 [==============================] - 1399s 69ms/step - loss: 0.5197 - accuracy: 0.7346 - val_loss: 0.4878 - val_accuracy: 0.7786\n"
          ],
          "name": "stdout"
        },
        {
          "output_type": "execute_result",
          "data": {
            "text/plain": [
              "<tensorflow.python.keras.callbacks.History at 0x7f061f349910>"
            ]
          },
          "metadata": {
            "tags": []
          },
          "execution_count": 75
        }
      ]
    },
    {
      "cell_type": "markdown",
      "metadata": {
        "id": "vtbggwl0p1go"
      },
      "source": [
        "LSTM with BERT word embeddings results"
      ]
    },
    {
      "cell_type": "code",
      "metadata": {
        "id": "KZuY-ZgQ5-d0"
      },
      "source": [
        "preds=model.predict(test_data)\n",
        "import numpy as np\n",
        "predicted = (preds > 0.5).astype(np.int)\n",
        "test = tf.concat([y for x, y in test_data], axis=0)"
      ],
      "execution_count": null,
      "outputs": []
    },
    {
      "cell_type": "code",
      "metadata": {
        "colab": {
          "base_uri": "https://localhost:8080/",
          "height": 312
        },
        "id": "BpY7QYmF7kDY",
        "outputId": "9210f7f3-46e8-48d7-9f97-02760fed2a6b"
      },
      "source": [
        "cf_matrix = confusion_matrix(y_pred=predicted, y_true=test)\n",
        "sns.heatmap(cf_matrix, cmap='Blues')\n",
        "plt.ylabel('Predicted label')\n",
        "plt.xlabel('True label')\n",
        "plt.title('Confusion Matrix')\n"
      ],
      "execution_count": null,
      "outputs": [
        {
          "output_type": "execute_result",
          "data": {
            "text/plain": [
              "Text(0.5, 1.0, 'Confusion Matrix')"
            ]
          },
          "metadata": {
            "tags": []
          },
          "execution_count": 84
        },
        {
          "output_type": "display_data",
          "data": {
            "image/png": "[encoded data removed]",
            "text/plain": [
              "<Figure size 432x288 with 2 Axes>"
            ]
          },
          "metadata": {
            "tags": [],
            "needs_background": "light"
          }
        }
      ]
    },
    {
      "cell_type": "code",
      "metadata": {
        "colab": {
          "base_uri": "https://localhost:8080/"
        },
        "id": "w0ztyHrJ7S5Q",
        "outputId": "80e2799b-250d-40a0-ef49-b3d1a53a5fe1"
      },
      "source": [
        "print(classification_report(test, predicted))"
      ],
      "execution_count": null,
      "outputs": [
        {
          "output_type": "stream",
          "text": [
            "              precision    recall  f1-score   support\n",
            "\n",
            "           0       0.62      0.75      0.68    174315\n",
            "           1       0.69      0.55      0.61    177663\n",
            "\n",
            "    accuracy                           0.65    351978\n",
            "   macro avg       0.66      0.65      0.65    351978\n",
            "weighted avg       0.66      0.65      0.64    351978\n",
            "\n"
          ],
          "name": "stdout"
        }
      ]
    },
    {
      "cell_type": "code",
      "metadata": {
        "colab": {
          "base_uri": "https://localhost:8080/",
          "height": 279
        },
        "id": "AxvUdmu27Xxj",
        "outputId": "0ba4f93c-c900-43fe-e6a6-3d00fccf0213"
      },
      "source": [
        "from sklearn.metrics import roc_auc_score\n",
        "from sklearn.metrics import roc_curve\n",
        "from matplotlib import pyplot as plt\n",
        "logit_roc_auc = roc_auc_score(test,predicted)\n",
        "fpr, tpr, thresholds = roc_curve(test, predicted)\n",
        "plt.figure()\n",
        "plt.plot(fpr, tpr, label='(area = %0.2f)' % logit_roc_auc)\n",
        "plt.plot([0, 1], [0, 1],'r--')\n",
        "plt.xlim([0.0, 1.0])\n",
        "plt.ylim([0.0, 1.05])\n",
        "plt.xlabel('False Positive Rate')\n",
        "plt.ylabel('True Positive Rate')\n",
        "plt.legend(loc=\"lower right\")\n",
        "plt.savefig('Log_ROC')\n",
        "plt.show()"
      ],
      "execution_count": null,
      "outputs": [
        {
          "output_type": "display_data",
          "data": {
            "image/png": "[encoded data removed]",
            "text/plain": [
              "<Figure size 432x288 with 1 Axes>"
            ]
          },
          "metadata": {
            "tags": [],
            "needs_background": "light"
          }
        }
      ]
    },
    {
      "cell_type": "markdown",
      "metadata": {
        "id": "-PzVQ8k-VEGW"
      },
      "source": [
        "Logistic regression = 58%\n",
        "\n",
        "LSTM = 57%\n",
        "\n",
        "Bi directional Lstm = 58%\n",
        "\n",
        "Lstm with Bert = 65%"
      ]
    }
  ]
}